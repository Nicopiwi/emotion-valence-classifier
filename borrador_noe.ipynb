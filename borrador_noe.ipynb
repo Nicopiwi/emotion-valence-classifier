{
 "cells": [
  {
   "cell_type": "code",
   "execution_count": 3,
   "id": "300e6a6b",
   "metadata": {},
   "outputs": [],
   "source": [
    "import matplotlib.pyplot as plt\n",
    "import pandas as pd\n",
    "import numpy as np"
   ]
  },
  {
   "cell_type": "code",
   "execution_count": 4,
   "id": "dd1310d6",
   "metadata": {},
   "outputs": [],
   "source": [
    "import mne"
   ]
  },
  {
   "cell_type": "code",
   "execution_count": null,
   "id": "2938cd6b",
   "metadata": {},
   "outputs": [],
   "source": [
    "# bids_root = '/Users/noehsueh/UBA/Brainhack/Project/dataset'\n",
    "# print(make_report(bids_root))\n",
    "# datatype = 'eeg'\n",
    "# suffix = 'eeg'\n",
    "# task = 'ImaginedEmotion' \n",
    "# subject = '01'\n",
    "# bids_path = BIDSPath(subject=subject, task=task, \n",
    "#                      suffix=suffix, datatype=datatype, \n",
    "#                     root=bids_root)\n",
    "# display(bids_path)\n",
    "# raw = read_raw_bids(bids_path=bids_path, verbose = False)\n",
    "# raw.drop_channels(['EXG1', 'EXG2', 'EXG3', 'EXG6']) # drop external channels"
   ]
  },
  {
   "cell_type": "code",
   "execution_count": 105,
   "id": "a47f0e01",
   "metadata": {},
   "outputs": [],
   "source": [
    "# # definir tiempo minimo\n",
    "# tmin = -0.2\n",
    "# # definir tiempo maximo\n",
    "# tmax = 0.8\n",
    "# # definir baseline\n",
    "# baseline = (-0.2,0)"
   ]
  },
  {
   "cell_type": "markdown",
   "id": "193698dc",
   "metadata": {},
   "source": [
    "## Creación de pipelines para para extraer datos"
   ]
  },
  {
   "cell_type": "code",
   "execution_count": 29,
   "id": "8ab0ed47",
   "metadata": {},
   "outputs": [],
   "source": [
    "import mne \n",
    "import pandas as pd\n",
    "import matplotlib.pyplot as plt\n",
    "import pandas as pd\n",
    "import numpy as np"
   ]
  },
  {
   "cell_type": "code",
   "execution_count": 92,
   "id": "bc25fb79",
   "metadata": {},
   "outputs": [],
   "source": [
    "# raw_path = '/Users/noehsueh/UBA/Brainhack/Project/dataset/sub-01/eeg/sub-01_task-ImaginedEmotion_eeg.set'\n",
    "# raw = mne.io.read_raw_eeglab(raw_path, preload=True) \n",
    "# events, event_id = mne.events_from_annotations(raw = raw)\n",
    "# exclude = [1,2,3,4,5,11,13,21,22,23,24,25,26,27]\n",
    "# events_included = mne.pick_events(events = events, exclude = exclude) # this wont work\n",
    "# event_id_included  = {\n",
    "#     'anger': 6, \n",
    "#     'awe': 7, \n",
    "#     'compassion': 8, \n",
    "#     'content': 9, \n",
    "#     'disgust': 10, \n",
    "#     'excite': 12, \n",
    "#     'fear': 14, \n",
    "#     'frustration': 15, \n",
    "#     'grief': 16, \n",
    "#     'happy': 17, \n",
    "#     'jealousy': 18, \n",
    "#     'joy': 19, \n",
    "#     'love': 20,  \n",
    "#     'relief': 28, \n",
    "#     'sad': 29\n",
    "# }\n",
    "\n",
    "# tmin = -0.2\n",
    "# tmax = 0.8\n",
    "# baseline = (-0.2,0)\n",
    "\n",
    "# epochs = mne.Epochs(raw_avg_ref, events = events_included, event_id = event_id_included, \n",
    "#                     tmin=tmin, tmax=tmax, baseline=baseline)\n",
    "# df = epochs.to_data_frame(long_format=True)"
   ]
  },
  {
   "cell_type": "code",
   "execution_count": 219,
   "id": "b717a1c0",
   "metadata": {},
   "outputs": [
    {
     "name": "stdout",
     "output_type": "stream",
     "text": [
      "Reading /Users/noehsueh/UBA/Brainhack/Project/dataset/sub-01/eeg/sub-01_task-ImaginedEmotion_eeg.fdt\n",
      "Reading 0 ... 1154303  =      0.000 ...  4508.996 secs...\n"
     ]
    },
    {
     "name": "stderr",
     "output_type": "stream",
     "text": [
      "/var/folders/7z/chvf52ys14n76739wydt9_5w0000gn/T/ipykernel_7679/238599111.py:2: RuntimeWarning: Estimated head radius (0.0 cm) is below the 3rd percentile for infant head size. Check if the montage_units argument is correct (the default is \"mm\", but your channel positions may be in different units).\n",
      "  raw = mne.io.read_raw_eeglab(raw_path, preload=True)\n"
     ]
    },
    {
     "name": "stdout",
     "output_type": "stream",
     "text": [
      "Used Annotations descriptions: ['anger', 'awe', 'compassion', 'content', 'disgust', 'excite', 'fear', 'frustration', 'grief', 'happy', 'jealousy', 'joy', 'love', 'relief', 'sad']\n",
      "Not setting metadata\n",
      "15 matching events found\n",
      "Applying baseline correction (mode: mean)\n",
      "0 projection items activated\n",
      "Using data from preloaded Raw for 15 events and 23067 original time points ...\n",
      "0 bad epochs dropped\n",
      "Converting \"condition\" to \"category\"...\n",
      "Converting \"epoch\" to \"category\"...\n",
      "Converting \"channel\" to \"category\"...\n",
      "Converting \"ch_type\" to \"category\"...\n"
     ]
    }
   ],
   "source": [
    "raw_path = '/Users/noehsueh/UBA/Brainhack/Project/dataset/sub-01/eeg/sub-01_task-ImaginedEmotion_eeg.set'\n",
    "raw = mne.io.read_raw_eeglab(raw_path, preload=True) \n",
    "raw.resample(128) \n",
    "events_included, event_id_included  = mne.events_from_annotations(raw = raw, \n",
    "                                                                  event_id = None, regexp='|'.join(selected_annotations))\n",
    "# tmin = -0.2\n",
    "# tmax = 180\n",
    "epochs = mne.Epochs(raw, \n",
    "                    events = events_included, \n",
    "                    event_id = event_id_included, \n",
    "                    tmin=-0.2, tmax=180,baseline=(-0.2,0))\n",
    "df = epochs.to_data_frame(long_format=True)\n"
   ]
  },
  {
   "cell_type": "code",
   "execution_count": 222,
   "id": "bd17bae7",
   "metadata": {},
   "outputs": [
    {
     "name": "stdout",
     "output_type": "stream",
     "text": [
      "Using data from preloaded Raw for 15 events and 23067 original time points ...\n"
     ]
    },
    {
     "data": {
      "text/plain": [
       "(15, 224, 23067)"
      ]
     },
     "execution_count": 222,
     "metadata": {},
     "output_type": "execute_result"
    }
   ],
   "source": [
    "epochs.get_data().shape"
   ]
  },
  {
   "cell_type": "markdown",
   "id": "a1e8b73e",
   "metadata": {},
   "source": [
    "# Convertir dataset en X, y "
   ]
  },
  {
   "cell_type": "code",
   "execution_count": 201,
   "id": "de7d8b04",
   "metadata": {},
   "outputs": [],
   "source": [
    "global positive_emotions \n",
    "positive_emotions = ['awe', 'joy', 'happy', 'love', 'compassion', 'content', 'relief', 'excite']"
   ]
  },
  {
   "cell_type": "code",
   "execution_count": 206,
   "id": "bf75dd83",
   "metadata": {},
   "outputs": [
    {
     "name": "stdout",
     "output_type": "stream",
     "text": [
      "Using data from preloaded Raw for 15 events and 129 original time points ...\n"
     ]
    },
    {
     "data": {
      "text/plain": [
       "[1, 0, 1, 0, 1, 0, 1, 0, 1, 0, 1, 0, 1, 0, 1]"
      ]
     },
     "execution_count": 206,
     "metadata": {},
     "output_type": "execute_result"
    }
   ],
   "source": [
    "X = epochs.get_data()*1000  # EEG signals: n_epochs, n_eeg_channels, n_times\n",
    "y_labels = epochs.events[:, 2]  # target\n",
    "event_id_reverse = {v: k for k, v in event_id_included.items()}  # Reverse the dictionary for mapping event IDs to descriptions\n",
    "y_labels = [event_id_reverse[label] for label in epochs.events[:, -1]]\n",
    "y = [1 if label in positive_emotions else 0 for label in y_labels]\n",
    "y"
   ]
  },
  {
   "cell_type": "code",
   "execution_count": 207,
   "id": "6df604f0",
   "metadata": {},
   "outputs": [
    {
     "data": {
      "text/plain": [
       "(15, 224, 129)"
      ]
     },
     "execution_count": 207,
     "metadata": {},
     "output_type": "execute_result"
    }
   ],
   "source": [
    "X.shape # 15 emotions, 224 channels, 129 sample rate"
   ]
  },
  {
   "cell_type": "code",
   "execution_count": 141,
   "id": "0041b528",
   "metadata": {},
   "outputs": [],
   "source": [
    "kernels, chans, samples = 1, 64, 129"
   ]
  },
  {
   "cell_type": "code",
   "execution_count": 154,
   "id": "84455b9d",
   "metadata": {},
   "outputs": [],
   "source": [
    "from EEGModels import EEGNet\n",
    "from tensorflow.keras import utils as np_utils\n",
    "tf.config.run_functions_eagerly"
   ]
  },
  {
   "cell_type": "code",
   "execution_count": 213,
   "id": "79ef34a9",
   "metadata": {},
   "outputs": [
    {
     "data": {
      "text/plain": [
       "['awe',\n",
       " 'frustration',\n",
       " 'joy',\n",
       " 'anger',\n",
       " 'happy',\n",
       " 'sad',\n",
       " 'love',\n",
       " 'grief',\n",
       " 'compassion',\n",
       " 'fear',\n",
       " 'content',\n",
       " 'jealousy',\n",
       " 'relief',\n",
       " 'disgust',\n",
       " 'excite']"
      ]
     },
     "execution_count": 213,
     "metadata": {},
     "output_type": "execute_result"
    }
   ],
   "source": [
    "y_labels"
   ]
  },
  {
   "cell_type": "code",
   "execution_count": 211,
   "id": "f07002cb",
   "metadata": {},
   "outputs": [
    {
     "data": {
      "text/plain": [
       "array([[0., 1.],\n",
       "       [1., 0.],\n",
       "       [0., 1.],\n",
       "       [1., 0.],\n",
       "       [0., 1.],\n",
       "       [1., 0.],\n",
       "       [0., 1.],\n",
       "       [1., 0.],\n",
       "       [0., 1.],\n",
       "       [1., 0.],\n",
       "       [0., 1.],\n",
       "       [1., 0.],\n",
       "       [0., 1.],\n",
       "       [1., 0.],\n",
       "       [0., 1.]], dtype=float32)"
      ]
     },
     "execution_count": 211,
     "metadata": {},
     "output_type": "execute_result"
    }
   ],
   "source": [
    "X_train = np.array(X[:,:64])\n",
    "y_train = np.array(y)\n",
    "y_train = np_utils.to_categorical((y_train-1)+1)\n",
    "y_train"
   ]
  },
  {
   "cell_type": "code",
   "execution_count": 214,
   "id": "d7a14496",
   "metadata": {},
   "outputs": [
    {
     "data": {
      "text/plain": [
       "(15, 64, 129, 1)"
      ]
     },
     "execution_count": 214,
     "metadata": {},
     "output_type": "execute_result"
    }
   ],
   "source": [
    "X_train = X_train.reshape(X_train.shape[0], chans, samples, kernels)\n",
    "X_train.shape"
   ]
  },
  {
   "cell_type": "code",
   "execution_count": 215,
   "id": "1c30b0c2",
   "metadata": {},
   "outputs": [],
   "source": [
    "# configure the EEGNet-8,2,16 model with kernel length of 64 samples (other \n",
    "# model configurations may do better, but this is a good starting point)\n",
    "model = EEGNet(nb_classes = 2, Chans = chans, Samples = samples, \n",
    "               dropoutRate = 0.5, kernLength = 64, F1 = 8, D = 2, F2 = 16, \n",
    "               dropoutType = 'Dropout')\n",
    "# compile the model and set the optimizers\n",
    "model.compile(loss='categorical_crossentropy', optimizer='adam', \n",
    "              metrics = ['accuracy'])"
   ]
  },
  {
   "cell_type": "code",
   "execution_count": 216,
   "id": "f40d4b50",
   "metadata": {},
   "outputs": [
    {
     "name": "stdout",
     "output_type": "stream",
     "text": [
      "Epoch 1/20\n"
     ]
    },
    {
     "name": "stderr",
     "output_type": "stream",
     "text": [
      "/Users/noehsueh/miniconda3/lib/python3.10/site-packages/tensorflow/python/data/ops/structured_function.py:264: UserWarning: Even though the `tf.config.experimental_run_functions_eagerly` option is set, this option does not apply to tf.data functions. To force eager execution of tf.data functions, please use `tf.data.experimental.enable_debug_mode()`.\n",
      "  warnings.warn(\n"
     ]
    },
    {
     "name": "stdout",
     "output_type": "stream",
     "text": [
      "8/8 - 0s - loss: 0.7063 - accuracy: 0.4000 - 456ms/epoch - 57ms/step\n",
      "Epoch 2/20\n",
      "8/8 - 0s - loss: 0.6518 - accuracy: 0.6000 - 451ms/epoch - 56ms/step\n",
      "Epoch 3/20\n",
      "8/8 - 0s - loss: 0.6653 - accuracy: 0.6000 - 449ms/epoch - 56ms/step\n",
      "Epoch 4/20\n",
      "8/8 - 0s - loss: 0.6594 - accuracy: 0.6667 - 417ms/epoch - 52ms/step\n",
      "Epoch 5/20\n",
      "8/8 - 0s - loss: 0.6554 - accuracy: 0.7333 - 412ms/epoch - 51ms/step\n",
      "Epoch 6/20\n",
      "8/8 - 0s - loss: 0.6525 - accuracy: 0.6667 - 416ms/epoch - 52ms/step\n",
      "Epoch 7/20\n",
      "8/8 - 0s - loss: 0.6619 - accuracy: 0.6667 - 419ms/epoch - 52ms/step\n",
      "Epoch 8/20\n",
      "8/8 - 0s - loss: 0.6300 - accuracy: 0.7333 - 415ms/epoch - 52ms/step\n",
      "Epoch 9/20\n",
      "8/8 - 0s - loss: 0.6132 - accuracy: 0.8000 - 414ms/epoch - 52ms/step\n",
      "Epoch 10/20\n",
      "8/8 - 0s - loss: 0.5763 - accuracy: 0.6667 - 411ms/epoch - 51ms/step\n",
      "Epoch 11/20\n",
      "8/8 - 0s - loss: 0.5622 - accuracy: 0.8000 - 416ms/epoch - 52ms/step\n",
      "Epoch 12/20\n",
      "8/8 - 0s - loss: 0.6297 - accuracy: 0.6667 - 431ms/epoch - 54ms/step\n",
      "Epoch 13/20\n",
      "8/8 - 0s - loss: 0.5758 - accuracy: 0.7333 - 413ms/epoch - 52ms/step\n",
      "Epoch 14/20\n",
      "8/8 - 0s - loss: 0.5906 - accuracy: 0.6667 - 410ms/epoch - 51ms/step\n",
      "Epoch 15/20\n",
      "8/8 - 0s - loss: 0.5250 - accuracy: 0.8667 - 414ms/epoch - 52ms/step\n",
      "Epoch 16/20\n",
      "8/8 - 0s - loss: 0.5367 - accuracy: 0.9333 - 415ms/epoch - 52ms/step\n",
      "Epoch 17/20\n",
      "8/8 - 0s - loss: 0.5001 - accuracy: 0.8667 - 411ms/epoch - 51ms/step\n",
      "Epoch 18/20\n",
      "8/8 - 0s - loss: 0.4754 - accuracy: 0.8667 - 412ms/epoch - 51ms/step\n",
      "Epoch 19/20\n",
      "8/8 - 0s - loss: 0.4705 - accuracy: 0.9333 - 422ms/epoch - 53ms/step\n",
      "Epoch 20/20\n",
      "8/8 - 0s - loss: 0.4694 - accuracy: 0.9333 - 419ms/epoch - 52ms/step\n"
     ]
    }
   ],
   "source": [
    "fittedModel = model.fit(X_train, y_train, batch_size = 2, epochs = 20, \n",
    "                        verbose = 2)"
   ]
  },
  {
   "cell_type": "code",
   "execution_count": 196,
   "id": "9016ed62",
   "metadata": {},
   "outputs": [
    {
     "data": {
      "text/plain": [
       "['awe',\n",
       " 'frustration',\n",
       " 'joy',\n",
       " 'anger',\n",
       " 'happy',\n",
       " 'sad',\n",
       " 'love',\n",
       " 'grief',\n",
       " 'compassion',\n",
       " 'fear',\n",
       " 'content',\n",
       " 'jealousy',\n",
       " 'relief',\n",
       " 'disgust',\n",
       " 'excite']"
      ]
     },
     "execution_count": 196,
     "metadata": {},
     "output_type": "execute_result"
    }
   ],
   "source": [
    "y_labels"
   ]
  },
  {
   "cell_type": "code",
   "execution_count": null,
   "id": "6b341c34",
   "metadata": {},
   "outputs": [],
   "source": []
  }
 ],
 "metadata": {
  "kernelspec": {
   "display_name": "Python 3 (ipykernel)",
   "language": "python",
   "name": "python3"
  },
  "language_info": {
   "codemirror_mode": {
    "name": "ipython",
    "version": 3
   },
   "file_extension": ".py",
   "mimetype": "text/x-python",
   "name": "python",
   "nbconvert_exporter": "python",
   "pygments_lexer": "ipython3",
   "version": "3.10.10"
  }
 },
 "nbformat": 4,
 "nbformat_minor": 5
}
